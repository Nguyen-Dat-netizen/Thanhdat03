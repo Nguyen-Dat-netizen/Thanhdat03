{
 "cells": [
  {
   "cell_type": "code",
   "execution_count": 7,
   "id": "43d5df80",
   "metadata": {},
   "outputs": [],
   "source": [
    "import requests\n",
    "import time\n",
    "import random\n",
    "import pandas as pd\n",
    "import numpy as np"
   ]
  },
  {
   "cell_type": "code",
   "execution_count": 8,
   "id": "c8bd5061",
   "metadata": {},
   "outputs": [],
   "source": [
    "headers={\n",
    "    'User-Agent':'Mozilla/5.0 (Windows NT 10.0; Win64; x64) AppleWebKit/537.36 (KHTML, like Gecko) Chrome/129.0.0.0 Safari/537.36',\n",
    "    'Accept':'application/json, text/plain, */*',\n",
    "    'Accept-Language':'vi-VN,vi;q=0.9,fr-FR;q=0.8,fr;q=0.7,en-US;q=0.6,en;q=0.5',\n",
    "    'Referer':'https://tiki.vn/dien-thoai-may-tinh-bang/c1789',\n",
    "    'X-Guest-Token':'if564SGkQtu71OY0xDghUVjZPWXHEnFe',\n",
    "    'Connection': 'keep-alive',\n",
    "    'Trailers': 'Trailers'\n",
    "    \n",
    "}"
   ]
  },
  {
   "cell_type": "code",
   "execution_count": 9,
   "id": "1cb0a632",
   "metadata": {},
   "outputs": [],
   "source": [
    "params = {\n",
    "    'limit': 40,\n",
    "    'include': 'advertisement',\n",
    "    'aggregations': 2,\n",
    "    'version': 'home-personalized',\n",
    "    'trackity_id': '98e4a779-b9d5-35b2-d7ab-d1d55d280f51',\n",
    "    'category': 1789,\n",
    "    'page': 1,\n",
    "    'urlKey': 'dien-thoai-may-tinh-bang'\n",
    "}\n"
   ]
  },
  {
   "cell_type": "code",
   "execution_count": 5,
   "id": "6612ebec",
   "metadata": {},
   "outputs": [
    {
     "name": "stdout",
     "output_type": "stream",
     "text": [
      "request success!\n",
      "request success!\n",
      "request success!\n",
      "request success!\n",
      "request success!\n",
      "request success!\n",
      "request success!\n",
      "request success!\n",
      "request success!\n",
      "request success!\n"
     ]
    }
   ],
   "source": [
    "product_id = []\n",
    "for i in range(1, 11):\n",
    "    response = requests.get('https://tiki.vn/api/personalish/v1/blocks/listings?',headers=headers,params=params )\n",
    "\n",
    "    if response.status_code == 200:\n",
    "        print(\"request success!\")\n",
    "        for record in response.json().get('data'):\n",
    "            product_id.append({'id':record.get('id')})\n",
    "    time.sleep(random.randrange(3,10))\n",
    "df=pd.DataFrame(product_id)\n",
    "df.to_csv('Product_Id.csv',index=False)"
   ]
  },
  {
   "cell_type": "code",
   "execution_count": null,
   "id": "60ae229f",
   "metadata": {},
   "outputs": [],
   "source": []
  }
 ],
 "metadata": {
  "kernelspec": {
   "display_name": "Python 3 (ipykernel)",
   "language": "python",
   "name": "python3"
  },
  "language_info": {
   "codemirror_mode": {
    "name": "ipython",
    "version": 3
   },
   "file_extension": ".py",
   "mimetype": "text/x-python",
   "name": "python",
   "nbconvert_exporter": "python",
   "pygments_lexer": "ipython3",
   "version": "3.10.13"
  }
 },
 "nbformat": 4,
 "nbformat_minor": 5
}
